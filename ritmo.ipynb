{
 "cells": [
  {
   "cell_type": "markdown",
   "id": "44d558f9",
   "metadata": {},
   "source": [
    "# %matplotlib notebook\n",
    "import pandas as pd\n",
    "entrada = '/home/fernando/Git/corpus/Corpus/romances.csv'\n",
    "entrada = '/home/fernando/Git/corpus/Corpus/ArticuloDivinoJason/romances/cabecera.csv'"
   ]
  },
  {
   "cell_type": "code",
   "execution_count": null,
   "id": "4673b960",
   "metadata": {},
   "outputs": [],
   "source": [
    "import pandas as pd\n",
    "import seaborn as sns\n",
    "import matplotlib.pyplot as plt\n",
    "import numpy as np\n",
    "import statsmodels.api as sm\n",
    "import statsmodels.formula.api as smf"
   ]
  },
  {
   "cell_type": "code",
   "execution_count": null,
   "id": "b06d91c0",
   "metadata": {},
   "outputs": [],
   "source": [
    "# Algunas variables para no truncar los df al imprimirlos\n",
    "# No correr si no se necesita examinar línea a línea\n",
    "\n",
    "#pd.set_option('display.max_rows', None)\n",
    "#pd.set_option('display.max_columns', None)\n",
    "#pd.set_option('display.width', None)\n",
    "#pd.set_option('display.max_colwidth', None)"
   ]
  },
  {
   "cell_type": "code",
   "execution_count": null,
   "id": "da6b8c41",
   "metadata": {},
   "outputs": [],
   "source": [
    "# Cargo los datos de entrada\n",
    "entrada = 'romances.csv'\n",
    "df = pd.read_csv(entrada)\n",
    "#dftest = pd.read_csv(entrenamiento)\n",
    "dfcontrol =  df.loc[df['Autor'].isin([ 'C01', 'C02', 'C03', 'C04',\n",
    "                                     'M01', 'M02', 'M03', 'M04'])]\n",
    "dfdudosos =  df.loc[df['Autor'].isin([ 'Jasón', 'Redención'])]\n",
    "#df = dfdatos.append(dftest, ignore_index=True)\n",
    "\n",
    "#df.append(dftest).append(control)\n",
    "# Los ritmos con + y - dan problemas como nombres de columna. Reemplazar los caracteres problemáticos lo soluciona\n",
    "df['Ritmo'] = df['Ritmo'].str.replace('+','X').str.replace('-', 'o')\n",
    "#Primera prueba (Cambioar para la verificación)\n",
    "#dfcontrol = df[df['Autor'].isin(['Calderón', 'Mira', 'Lope', 'C01', 'C02', 'C03', 'C04', 'C05', 'C06',\n",
    "#                                'C07', 'C08', 'C09', 'C10', 'C11', 'C12',\n",
    "#                                 'M01', 'M02', 'M03', 'M04', 'M05', 'M06'])]\n",
    "#df = df[df['Autor'].isin(['Calderón', 'Mira', 'Lope', 'X', 'Y'])]"
   ]
  },
  {
   "cell_type": "code",
   "execution_count": null,
   "id": "c6fbe9b8",
   "metadata": {},
   "outputs": [],
   "source": [
    "#Defino variab, ignore_index=Trueles globales\n",
    "# Seis obras atribuidas a Mira y 12 autógrafos de Calderón\n",
    "control = ['C01', 'C02', 'C03', 'C04', 'M01', 'M02', 'M03', 'M04']\n",
    "candidatos = ['Calderón', 'Lope', 'Mira']\n",
    "dudosos = ['Jasón', 'Redención']"
   ]
  },
  {
   "cell_type": "code",
   "execution_count": null,
   "id": "d5e4bd03",
   "metadata": {},
   "outputs": [],
   "source": [
    "# Averigua el número de muestras de cada obra y devuelve un df\n",
    "# con un número de muestras homogéneo para todas las obras\n",
    "def muestrasiguales(data, i=0):\n",
    "    resultado = pd.DataFrame()\n",
    "    obras = pd.unique(data['Obra'])\n",
    "    if i == 0:\n",
    "        menor = min([len(data[data['Obra'] == obra]) for obra in obras])\n",
    "    else:\n",
    "        menor = 100\n",
    "    for obra in obras:\n",
    "        resultado = resultado.append(\n",
    "# Usamos 42 como valor de aleatorización por tratarse de la respuesta a la vida, el universo y todo (cf. Adams 1979) \n",
    "            data[data['Obra'] == obra].sample(n=menor, random_state = 42), ignore_index=True\n",
    "        )\n",
    "    return (resultado, menor)"
   ]
  },
  {
   "cell_type": "code",
   "execution_count": null,
   "id": "b54ed6fd",
   "metadata": {},
   "outputs": [],
   "source": [
    "# Esta función añade columna con el recuento de ritmos de un tipo por obra y recuento relativo versos/total\n",
    "def recuento(data, columna):\n",
    "    dfritmo = pd.DataFrame()\n",
    "    valores = pd.unique(data[columna])\n",
    "    obras = pd.unique(data['Obra'])\n",
    "    for obra in obras:\n",
    "        nversos = len(data[data['Obra'] == obra])\n",
    "        cuentas = {}\n",
    "        autor =  data.loc[data['Obra'] == obra]['Autor'].value_counts()[:1].index.tolist()[0]\n",
    "        for valor in valores:\n",
    "            fila = {'Obra': obra, 'Autor': autor}\n",
    "            cuenta = len(data.loc[data['Obra'] == obra][data[columna] == valor])\n",
    "            relcuenta = cuenta/nversos\n",
    "            fila = {'Obra': obra, 'Autor': autor, columna: valor, 'Cuenta': cuenta, 'RelCuenta' : relcuenta}\n",
    "            if cuenta > 0:           \n",
    "                dfritmo = dfritmo.append(fila, ignore_index=True)\n",
    "    return dfritmo.convert_dtypes()"
   ]
  },
  {
   "cell_type": "code",
   "execution_count": null,
   "id": "a0c4266e",
   "metadata": {},
   "outputs": [],
   "source": [
    "def recuento(data, columna):\n",
    "    dfritmo = pd.DataFrame()\n",
    "    valores = pd.unique(data[columna])\n",
    "    obras = pd.unique(data['Obra'])\n",
    "    for obra in obras:\n",
    "        nversos = len(data[data['Obra'] == obra])\n",
    "        cuentas = {}\n",
    "        autor =  data.loc[data['Obra'] == obra]['Autor'].value_counts()[:1].index.tolist()[0]\n",
    "        for valor in valores:\n",
    "            fila = {'Obra': obra, 'Autor': autor}\n",
    "            cuenta = len(data.loc[data['Obra'] == obra][data[columna] == valor])\n",
    "            relcuenta = cuenta/nversos\n",
    "            fila = {'Obra': obra, 'Autor': autor, columna: valor, 'Cuenta': cuenta, 'RelCuenta' : relcuenta}\n",
    "            if cuenta > 0:           \n",
    "                dfritmo = dfritmo.append(fila, ignore_index=True)\n",
    "    return dfritmo.convert_dtypes()"
   ]
  },
  {
   "cell_type": "code",
   "execution_count": null,
   "id": "71032381",
   "metadata": {},
   "outputs": [],
   "source": [
    "# Esta función pasa los valores de ritmo a variables para formar una tabla en formato largo, que \n",
    "# se puede usar con MANOVA.wide de R o con las pruebas de scikitlearning\n",
    "\n",
    "def formatolargo(columna, data, cuenta='Cuenta'):\n",
    "    dflargo = pd.DataFrame()\n",
    "    obras = pd.unique(data['Obra'])\n",
    "    variables = pd.unique(data[columna])\n",
    "    calderon = lope = mira = 0\n",
    "    for obra in obras:\n",
    "        subconjunto = data[data['Obra'] == obra]\n",
    "        autor = max(subconjunto['Autor'])\n",
    "        fila = {'Autor': autor, 'Obra': obra}\n",
    "        for var in variables:\n",
    "            suma = subconjunto[subconjunto[columna] == var]['Cuenta'].sum()\n",
    "            fila.update({var: suma})\n",
    "        dflargo = dflargo.append(fila, ignore_index=True)\n",
    "    return dflargo.convert_dtypes()"
   ]
  },
  {
   "cell_type": "code",
   "execution_count": null,
   "id": "f89b2578",
   "metadata": {},
   "outputs": [],
   "source": [
    "# Recorta valores poco relevantes. Ritmos con 2 o menos ocurrencias van fuera\n",
    "def recorta(data, minimo):\n",
    "    for valor in data.columns:\n",
    "        if valor != 'Autor' and valor != 'Obra':\n",
    "            if data[valor].sum() < minimo:\n",
    "                data = data.drop(columns=valor)\n",
    "    return data.convert_dtypes()"
   ]
  },
  {
   "cell_type": "code",
   "execution_count": null,
   "id": "2099138d",
   "metadata": {},
   "outputs": [],
   "source": [
    "# entrenamiento, autor, dflargotest, kn, para_comprobar, testr, alea\n",
    "def analiza(data, j_test=pd.DataFrame(), test=0.2, alea = 42, plot='rbf', analisis='k',  n=12):\n",
    "    X = data.drop('Autor', axis=1).values\n",
    "    y = data['Autor'].values\n",
    "    \n",
    "    from sklearn.model_selection import train_test_split\n",
    "    X_train, X_test, y_train, y_test = train_test_split(X, y, test_size=test, random_state=alea)\n",
    "    #y_train = X_train['Autor'].values\n",
    "    if analisis == 'k':\n",
    "        from sklearn.neighbors import KNeighborsClassifier\n",
    "        neighbors = np.arange(1,12)\n",
    "        train_accuracy =np.empty(len(neighbors))\n",
    "        test_accuracy = np.empty(len(neighbors))\n",
    "    \n",
    "        for i,k in enumerate(neighbors):\n",
    "            #Setup a knn classifier with k neighbors\n",
    "            modelo = KNeighborsClassifier(n_neighbors=k)\n",
    "            #Fit the model\n",
    "            modelo.fit(X_train,y_train)\n",
    "    \n",
    "            #Compute accuracy on the training set\n",
    "            train_accuracy[i] = modelo.score(X_train,y_train)\n",
    "    \n",
    "            #Compute accuracy on the test set\n",
    "            test_accuracy[i] = modelo.score(X_test, y_test)\n",
    "        if plot == 'y':\n",
    "            # Gráfico para calcular la precisión. Según sus resultados, ajustamos\n",
    "            # el número de vecinos a un valor óptimo\n",
    "            plt.rcParams[\"figure.figsize\"] = (10,8)\n",
    "            plt.title('k-NN número de vecinos')\n",
    "            plt.plot(neighbors, test_accuracy, label='Precisión de la prueba')\n",
    "            plt.plot(neighbors, train_accuracy, label='Precisión del entrenamiento')\n",
    "            plt.legend()\n",
    "            plt.xlabel('Número de vecinos')\n",
    "            plt.ylabel('Precisión')\n",
    "            plt.show()\n",
    "        else:\n",
    "            print(test_accuracy)\n",
    "        modelo = KNeighborsClassifier(n_neighbors=n)\n",
    "        modelo.fit(X_train,y_train)\n",
    "    elif analisis == 'r':\n",
    "        from sklearn.preprocessing import StandardScaler\n",
    "        sc = StandardScaler()\n",
    "        X_train = sc.fit_transform(X_train)\n",
    "        X_test = sc.transform(X_test)\n",
    "    \n",
    "        j_test = sc.transform(j_test)\n",
    "        from sklearn.linear_model import LogisticRegression\n",
    "        modelo = LogisticRegression(max_iter=1000,  random_state=alea)\n",
    "        modelo.fit(X_train,y_train)\n",
    "        y_pred = modelo.predict(X_test)\n",
    "    elif analisis == 's':\n",
    "        from sklearn import svm\n",
    "        modelo = svm.SVC(kernel=plot)\n",
    "        modelo.fit(X_train,y_train)\n",
    "    else:\n",
    "        return False\n",
    "\n",
    "    #j_testX = sc.transform(j_testX)\n",
    "\n",
    "    from sklearn.metrics import classification_report\n",
    "    print(f'Score: {modelo.score(X_test,y_test)}')\n",
    "    from sklearn.metrics import confusion_matrix\n",
    "    y_pred = modelo.predict(X_test)\n",
    "    # Lo mismo que el gráfico\n",
    "    #print(confusion_matrix(y_test,y_pred))\n",
    "    # Ditto\n",
    "    #print(classification_report(y_test,y_pred))\n",
    "    print(modelo.predict(j_test))\n",
    "    #print(f'Prueba: {knn.predict(prueba)}')\n",
    "    return modelo"
   ]
  },
  {
   "cell_type": "code",
   "execution_count": null,
   "id": "ed0b9b0d",
   "metadata": {},
   "outputs": [],
   "source": [
    "def borra(data, columna, ritmosx):\n",
    "    #data = data.loc[data['Cuenta'] > 10]\n",
    "    obras = pd.unique(data['Obra'].values)\n",
    "    ritmosa = pd.unique(data[columna].values)\n",
    "    for ritmo in ritmosa:\n",
    "        if ritmo not in ritmosx:\n",
    "            data = data.loc[a[columna] != ritmo]\n",
    "        else:\n",
    "            for autor in ['Calderón', 'Mira', 'Lope']:\n",
    "                if ritmo not in data.loc[data['Autor'] == autor][columna].values:\n",
    "                    data = data.loc[data[columna] != ritmo]\n",
    "            if len(data[data[columna] == ritmo]) < 20 or data.loc[data[columna] == ritmo]['RelCuenta'].max() < 0.05:\n",
    "                data = data.loc[data[columna] != ritmo]\n",
    "    return data"
   ]
  },
  {
   "cell_type": "code",
   "execution_count": null,
   "id": "4fbc35a8",
   "metadata": {},
   "outputs": [],
   "source": [
    "def borrar(data, columna, lista = []):\n",
    "    data = data.loc[~data['Autor'].isin(control)]\n",
    "    data = data.loc[~data['Obra'].str.startswith('z', na=False)]\n",
    "    #data = data.loc[data['Cuenta'] > 10]\n",
    "    obras = pd.unique(data['Obra'].values)\n",
    "    x = data.loc[data['Autor'].isin(dudosos)]\n",
    "    a = data.loc[~data['Autor'].isin(dudosos)]\n",
    "    if len(lista) == 0:\n",
    "        ritmosx = pd.unique(x[columna].values)\n",
    "        ritmosa = pd.unique(a[columna].values)\n",
    "    else:\n",
    "        return data.loc[data[columna].isin(lista)]\n",
    "    for ritmo in ritmosa:\n",
    "        if ritmo not in ritmosx:\n",
    "            a = a.loc[a[columna] != ritmo]\n",
    "        else:\n",
    "            for autor in ['Calderón', 'Mira', 'Lope']:\n",
    "                if ritmo not in a.loc[a['Autor'] == autor][columna].values:\n",
    "                    a = a.loc[a[columna] != ritmo]\n",
    "            if len(a[a[columna] == ritmo]) < 4 or a.loc[a[columna] == ritmo]['Cuenta'].max() < 4:\n",
    "                a = a.loc[a[columna] != ritmo]\n",
    "    dfritmo = pd.DataFrame()\n",
    "    valores = pd.unique(data[columna])\n",
    "    obras = pd.unique(data['Obra'])\n",
    "    for obra in obras:\n",
    "        cuentas = {}\n",
    "        autor =  data[data['Obra'] == obra]['Autor'].value_counts()[:1].index.tolist()[0]\n",
    "        for valor in valores:\n",
    "            fila = {'Obra': obra, 'Autor': autor}\n",
    "            cuenta = len(data[data['Obra'] == obra][data[columna] == valor])\n",
    "            fila = {'Obra': obra, 'Autor': autor, columna: valor, 'Cuenta': cuenta, 'RelCuenta' : cuenta/len(obra)}\n",
    "            if cuenta > 0:           \n",
    "                dfritmo = dfritmo.append(fila, ignore_index=True)\n",
    "    return dfritmo.convert_dtypes()"
   ]
  },
  {
   "cell_type": "code",
   "execution_count": null,
   "id": "090732e9",
   "metadata": {},
   "outputs": [],
   "source": [
    "dfrecuenta = recuento(df, 'Romance')"
   ]
  },
  {
   "cell_type": "code",
   "execution_count": null,
   "id": "6837f64a",
   "metadata": {},
   "outputs": [],
   "source": [
    "dfcuenta = recuento(df, 'Ritmo')"
   ]
  },
  {
   "cell_type": "code",
   "execution_count": null,
   "id": "0679ef73",
   "metadata": {},
   "outputs": [],
   "source": [
    "dfrplot = dfrecuenta.loc[dfrecuenta['Autor'].isin(candidatos)]\n",
    "dfplot = dfcuenta.loc[dfcuenta['Autor'].isin(candidatos)]"
   ]
  },
  {
   "cell_type": "code",
   "execution_count": null,
   "id": "19f93426",
   "metadata": {},
   "outputs": [],
   "source": []
  },
  {
   "cell_type": "code",
   "execution_count": null,
   "id": "0a06eddf",
   "metadata": {},
   "outputs": [],
   "source": [
    "ritmosx = df.loc[df['Autor'] == 'Jasón']\n",
    "\n",
    "ritmosx.groupby('Ritmo').count()\n",
    "rx = pd.unique(ritmosx['Ritmo'])"
   ]
  },
  {
   "cell_type": "code",
   "execution_count": null,
   "id": "03856fc0",
   "metadata": {},
   "outputs": [],
   "source": [
    "ritmosy = df.loc[df['Autor'] == 'Redención']\n",
    "ritmosy.groupby('Ritmo').count()\n",
    "ry = pd.unique(ritmosy['Ritmo'])"
   ]
  },
  {
   "cell_type": "code",
   "execution_count": null,
   "id": "4e97de00",
   "metadata": {},
   "outputs": [],
   "source": [
    "ritmosxy = pd.unique(df.loc[df['Autor'].isin(['Jasón', 'Redención'])]['Romance'])"
   ]
  },
  {
   "cell_type": "code",
   "execution_count": null,
   "id": "4c33a214",
   "metadata": {},
   "outputs": [],
   "source": [
    "#creado = borra(dfplot, 'Ritmo', ritmosx)\n",
    "#creador = borrar(dfrplot.loc[dfrplot['Autor'].isin(candidatos)], 'Romance', rx)"
   ]
  },
  {
   "cell_type": "code",
   "execution_count": null,
   "id": "5b692d57",
   "metadata": {},
   "outputs": [],
   "source": [
    "creado = dfcuenta.loc[dfcuenta['Autor'].isin(candidatos)]\n",
    "creado = creado.loc[creado['Ritmo'].isin(rx)]\n"
   ]
  },
  {
   "cell_type": "code",
   "execution_count": null,
   "id": "1a07dbbc",
   "metadata": {},
   "outputs": [],
   "source": [
    "cre = borra(creado, 'Ritmo',rx)"
   ]
  },
  {
   "cell_type": "code",
   "execution_count": null,
   "id": "6e89d59f",
   "metadata": {},
   "outputs": [],
   "source": [
    "dfrplot = dfrplot.loc[dfrplot['Autor'].isin(candidatos)]"
   ]
  },
  {
   "cell_type": "code",
   "execution_count": null,
   "id": "b80a9b86",
   "metadata": {},
   "outputs": [],
   "source": [
    "my_pal = {\"Calderón\": \"r\", \"Lope\": \"black\", \"Mira\":\"orange\"}"
   ]
  },
  {
   "cell_type": "code",
   "execution_count": null,
   "id": "6634abe2",
   "metadata": {},
   "outputs": [],
   "source": [
    "# Ritmo\n",
    "plt.figure(figsize=(16,8))\n",
    "plot = sns.boxplot(x='Ritmo', y='RelCuenta', hue='Autor', data=cre, palette=my_pal, medianprops=dict(color=\"white\", alpha=0.7))\n",
    "plt.xticks(rotation=45)"
   ]
  },
  {
   "cell_type": "code",
   "execution_count": null,
   "id": "11357500",
   "metadata": {},
   "outputs": [],
   "source": [
    "# Ritmo\n",
    "#plt.figure(figsize=(16,8))\n",
    "#plot = sns.boxplot(x='Romance', y='Cuenta', hue='Autor', data=creador)\n",
    "#plt.xticks(rotation=45)"
   ]
  },
  {
   "cell_type": "code",
   "execution_count": null,
   "id": "26cc6939",
   "metadata": {
    "scrolled": true
   },
   "outputs": [],
   "source": [
    "#df.groupby('Obra').size()"
   ]
  },
  {
   "cell_type": "code",
   "execution_count": null,
   "id": "92bab1c9",
   "metadata": {},
   "outputs": [],
   "source": [
    "#muestrea = muestrasiguales(df)"
   ]
  },
  {
   "cell_type": "code",
   "execution_count": null,
   "id": "3b6f5921",
   "metadata": {},
   "outputs": [],
   "source": [
    "#nmuestras = muestrea[1]\n",
    "#dfreg = muestrea[0]\n",
    "#dfregcontrol = dfcontrol\n",
    "# No son necesarios porque Jasón y La soberbia tienen más versos que algunos del entrenamiento\n",
    "#dfXreg =  muestrasiguales(\n",
    "#    df[df['Autor'].isin(['Calderón', 'Lope', 'Mira', 'X'])])\n",
    "#dfYreg =  muestrasiguales(df[df['Autor'].isin(['Calderón', 'Lope', 'Mira', 'Y'])])\n",
    "\n",
    "#dftestreg = muestrasiguales(df[df['Autor'].isin(['X','Y'])])\n"
   ]
  },
  {
   "cell_type": "code",
   "execution_count": null,
   "id": "3583dcb2",
   "metadata": {},
   "outputs": [],
   "source": [
    "#dfregcontrol = muestreacontrol[0]\n",
    "#nmuestrascontrol = muestreacontrol[1]"
   ]
  },
  {
   "cell_type": "code",
   "execution_count": null,
   "id": "a9676c97",
   "metadata": {},
   "outputs": [],
   "source": [
    "\n"
   ]
  },
  {
   "cell_type": "code",
   "execution_count": null,
   "id": "09e6ccb2",
   "metadata": {},
   "outputs": [],
   "source": [
    "dfrcuenta = recuento(df, 'Romance')\n",
    "dfrlargo = formatolargo('Romance', dfrcuenta)\n",
    "dfrlargo.to_csv('romances.csv', mode='w', header=True, index=False) \n"
   ]
  },
  {
   "cell_type": "code",
   "execution_count": null,
   "id": "4290bb48",
   "metadata": {},
   "outputs": [],
   "source": [
    "dflargo = formatolargo('Ritmo', dfcuenta, 'RelCuenta')"
   ]
  },
  {
   "cell_type": "code",
   "execution_count": null,
   "id": "48279242",
   "metadata": {},
   "outputs": [],
   "source": [
    "dflargo = recorta(dflargo, 1)\n",
    "#dflargodos = recorta(dflargo, 3)\n",
    "#dflargotres = recorta(dflargo, 3)"
   ]
  },
  {
   "cell_type": "code",
   "execution_count": null,
   "id": "fc1c503b",
   "metadata": {},
   "outputs": [],
   "source": [
    "#dflargoseis = recorta(dflargo, 6)\n",
    "#dflargodiez = recorta dflargo(dflargo, 10)\n",
    "#dflargodoce = recorta(dflargo, 12)"
   ]
  },
  {
   "cell_type": "code",
   "execution_count": null,
   "id": "3539074b",
   "metadata": {},
   "outputs": [],
   "source": [
    "entrenamiento = dflargo.loc[dflargo['Autor'].isin(candidatos)].drop('Obra', axis=1)\n",
    "entrenamiento = entrenamiento.loc[~entrenamiento['Autor'].isin(dudosos)]\n",
    "#entrenamiento = entrenamiento.loc[~entrenamiento['Obra'].str.startswith('z', na=False)].drop('Obra', axis=1)\n",
    "dfcontrol =  dflargo.loc[dflargo['Autor'].isin(control)].drop('Obra', axis=1)\n"
   ]
  },
  {
   "cell_type": "code",
   "execution_count": null,
   "id": "0646cef3",
   "metadata": {},
   "outputs": [],
   "source": [
    "control = ['C01', 'C02', 'C03', 'C04',\n",
    "           'M01', 'M02', 'M03', 'M04']"
   ]
  },
  {
   "cell_type": "code",
   "execution_count": null,
   "id": "a998fddd",
   "metadata": {},
   "outputs": [],
   "source": [
    "dflargo"
   ]
  },
  {
   "cell_type": "code",
   "execution_count": null,
   "id": "3e4fd8a6",
   "metadata": {},
   "outputs": [],
   "source": [
    "# Ajusto los parámetros\n",
    "testr = 0.01\n",
    "testk = 0.2\n",
    "tests = 0.01\n",
    "#0.16\n",
    "alear = 42\n",
    "aleak = 42\n",
    "aleas = 42\n",
    "kn = 8\n",
    "data = dflargo\n",
    "autores = control\n",
    "for autor in  ['Redención', 'Jasón']:\n",
    "#def analiza(tabla, j_test=pd.DataFrame(), test=0.2, alea = 42, plot='n', analisis='k',  n=12):\n",
    "    print(f'\\n\\n\\n******************************************\\n\\nObra:\\t{autor}: {dflargo.loc[dflargo[\"Autor\"] == autor][\"Obra\"].max()}\\n')\n",
    "    para_comprobar = dflargo.loc[dflargo['Autor'] == autor].drop('Autor', axis=1).drop('Obra', axis=1).values\n",
    "    \n",
    "    print('Regresión')\n",
    "    analiza(entrenamiento, para_comprobar, testr, alear,'n', 'r')\n",
    "  \n",
    "    print('\\n-------------------------------------------------------\\n\\nSVN')\n",
    "    #testY = dfreglargo[dfreglargo['Autor'] == autor].drop('Autor', axis=1).values\n",
    "    analiza(entrenamiento, para_comprobar, tests, aleas, 'rbf', 's')\n",
    "    \n",
    "    print('\\n-------------------------------------------------------\\n\\nKnn:\\n')\n",
    "    analiza(entrenamiento, para_comprobar, testk, aleak, 'y', 'k', kn)"
   ]
  },
  {
   "cell_type": "code",
   "execution_count": null,
   "id": "5b729f5a",
   "metadata": {},
   "outputs": [],
   "source": [
    "#dfromancesY.groupby(['Romance', 'Cuenta']).count()\n",
    "# No hay ritmos sin instancia"
   ]
  },
  {
   "cell_type": "code",
   "execution_count": null,
   "id": "59c9061c",
   "metadata": {},
   "outputs": [],
   "source": [
    "def creaformula(columna, data):\n",
    "    variables = []\n",
    "    lista = pd.unique(data[columna])\n",
    "    for idx, elemento in enumerate(lista):\n",
    "        if idx == 0:\n",
    "            formula = f'{elemento} ~ Autor'\n",
    "        else:\n",
    "            formula = f'{elemento} + {formula}'\n",
    "        variables += [elemento]\n",
    "    return formula\n",
    "    "
   ]
  },
  {
   "cell_type": "code",
   "execution_count": null,
   "id": "f56c7d04",
   "metadata": {},
   "outputs": [],
   "source": [
    "formularitmos = creaformula('Ritmo', dfritmosCLM)\n",
    "formularomances = creaformula('Romance', dfromancesX)"
   ]
  },
  {
   "cell_type": "code",
   "execution_count": null,
   "id": "3308cef2",
   "metadata": {},
   "outputs": [],
   "source": [
    "#for idx, i in enumerate(pd.unique(dfritmosCLM['Ritmo'])):\n",
    "    #print(f'anova{idx} <- MANOVA.wide({i}  ~ Autor, data = ridf, iter = 100, resampling = \"WildBS\", seed=123,CPU = 4)')\n",
    "    #print(i)"
   ]
  },
  {
   "cell_type": "code",
   "execution_count": null,
   "id": "55de938b",
   "metadata": {},
   "outputs": [],
   "source": [
    "\n",
    "entrenamientoX = dfritmolargoX[dfritmolargoX['Autor'] != 'X'][['Autor'] + variablesX]"
   ]
  },
  {
   "cell_type": "code",
   "execution_count": null,
   "id": "93b940bd",
   "metadata": {},
   "outputs": [],
   "source": [
    "cadena = 'p.adjust(c('\n",
    "for idx, i in enumerate(pd.unique(dfritmosX['Ritmo'])):\n",
    "    cadena += f'anova{idx}$resampling[, 2],'\n",
    "cadena += '), method = \"bonferroni\")'"
   ]
  },
  {
   "cell_type": "code",
   "execution_count": null,
   "id": "8bd8c367",
   "metadata": {},
   "outputs": [],
   "source": [
    "from statsmodels.multivariate.manova import MANOVA\n",
    "maov = MANOVA.from_formula(formularomances, data = dfromancelargo)"
   ]
  },
  {
   "cell_type": "code",
   "execution_count": null,
   "id": "5a28682f",
   "metadata": {},
   "outputs": [],
   "source": [
    "print(maov.mv_test())"
   ]
  },
  {
   "cell_type": "code",
   "execution_count": null,
   "id": "e1fd1a18",
   "metadata": {},
   "outputs": [],
   "source": [
    "from statsmodels.multivariate.manova import MANOVA\n",
    "maov = MANOVA.from_formula(formularomances, data = dfromancelargo)"
   ]
  },
  {
   "cell_type": "code",
   "execution_count": null,
   "id": "e3b38cd1",
   "metadata": {},
   "outputs": [],
   "source": [
    "print(maov.mv_test())"
   ]
  },
  {
   "cell_type": "code",
   "execution_count": null,
   "id": "d5e26951",
   "metadata": {},
   "outputs": [],
   "source": [
    "#clasifica = logreg(entrenamientoX, 'X', testX)\n",
    "#clasifica = logreg(entrenamientoY, 'Y', testY)"
   ]
  },
  {
   "cell_type": "code",
   "execution_count": null,
   "id": "06f62b19",
   "metadata": {},
   "outputs": [],
   "source": [
    "#testX"
   ]
  },
  {
   "cell_type": "code",
   "execution_count": null,
   "id": "04758c61",
   "metadata": {},
   "outputs": [],
   "source": [
    "#clasifica = vecinos(entrenamientoX, 'X', 5, testX)"
   ]
  },
  {
   "cell_type": "code",
   "execution_count": null,
   "id": "c6dd6ae8",
   "metadata": {},
   "outputs": [],
   "source": [
    "#clasifica = vecinos(dfritmolargoY, 'Y', 5)"
   ]
  },
  {
   "cell_type": "code",
   "execution_count": null,
   "id": "4b53f0ec",
   "metadata": {},
   "outputs": [],
   "source": []
  },
  {
   "cell_type": "code",
   "execution_count": null,
   "id": "076b9246",
   "metadata": {},
   "outputs": [],
   "source": [
    "clasifica = logreg(dfritmolargoX, 'X')"
   ]
  },
  {
   "cell_type": "code",
   "execution_count": null,
   "id": "daa41f35",
   "metadata": {},
   "outputs": [],
   "source": [
    "clasifica = logreg(dfritmolargoY, 'Y')"
   ]
  },
  {
   "cell_type": "code",
   "execution_count": null,
   "id": "f834ccd9",
   "metadata": {},
   "outputs": [],
   "source": [
    "logmodelY = LogisticRegression(max_iter=1000, solver='lbfgs', random_state=99)\n",
    "predictionsY = logmodelY.predict(X_testY)"
   ]
  },
  {
   "cell_type": "code",
   "execution_count": null,
   "id": "9eb25d3c",
   "metadata": {},
   "outputs": [],
   "source": [
    "#from sklearn.linear_model import LogisticRegression\n",
    "#scikit_no_penalty = LogisticRegression(random_state=0,penalty='none').fit(X_train, y_train)\n",
    "#print(f\"intecept: {scikit_no_penalty.intercept_} coeficients: {scikit_no_penalty.coef_}\")\n",
    "#print(f\"train accuracy: {scikit_no_penalty.score(X_train, y_train)}\")\n",
    "#print(f\"test accuracy: {scikit_no_penalty.score(X_test, y_test)}\")"
   ]
  },
  {
   "cell_type": "code",
   "execution_count": null,
   "id": "f080ad8f",
   "metadata": {},
   "outputs": [],
   "source": [
    "#from sklearn.linear_model import LogisticRegression\n",
    "#scikit_no_penalty = LogisticRegression(random_state=0,penalty='none').fit(X_train, y_train)\n",
    "#print(f\"intecept: {scikit_no_penalty.intercept_} coeficients: {scikit_no_penalty.coef_}\")\n",
    "#print(f\"train accuracy: {scikit_no_penalty.score(X_train, y_train)}\")\n",
    "#print(f\"test accuracy: {scikit_no_penalty.score(X_test, y_test)}\")\n"
   ]
  },
  {
   "cell_type": "code",
   "execution_count": null,
   "id": "56b46ca6",
   "metadata": {},
   "outputs": [],
   "source": [
    "#from sklearn.metrics import roc_auc_score\n",
    "#ascore = roc_auc_score(y_testX, logreg_model.predict_proba(X_testX)[:,1])"
   ]
  },
  {
   "cell_type": "code",
   "execution_count": null,
   "id": "a1062293",
   "metadata": {},
   "outputs": [],
   "source": [
    "#ascore"
   ]
  },
  {
   "cell_type": "code",
   "execution_count": null,
   "id": "c7e3f477",
   "metadata": {},
   "outputs": [],
   "source": [
    "#knnX.score(X_testX, y_testX)logreg_model.summary()"
   ]
  },
  {
   "cell_type": "code",
   "execution_count": null,
   "id": "c86750bd",
   "metadata": {},
   "outputs": [],
   "source": [
    "#result = pd.concat([df, result_df], axis=1)"
   ]
  },
  {
   "cell_type": "code",
   "execution_count": null,
   "id": "d799f13f",
   "metadata": {},
   "outputs": [],
   "source": [
    "#result"
   ]
  },
  {
   "cell_type": "code",
   "execution_count": null,
   "id": "1ee55c9f",
   "metadata": {},
   "outputs": [],
   "source": [
    "#log_reg = sm.Logit(np.asarray(entrenamiento['Autor']), np.asarray(entrenamiento[variables])).fit()"
   ]
  },
  {
   "cell_type": "code",
   "execution_count": null,
   "id": "bfbf781e",
   "metadata": {},
   "outputs": [],
   "source": [
    "#log_reg = sm.Logit(y_train, X_train).fit()"
   ]
  },
  {
   "cell_type": "code",
   "execution_count": null,
   "id": "a5de7307",
   "metadata": {},
   "outputs": [],
   "source": [
    "#log_reg.fit()"
   ]
  },
  {
   "cell_type": "code",
   "execution_count": null,
   "id": "4ac12435",
   "metadata": {},
   "outputs": [],
   "source": [
    "#from patsy import dmatrices"
   ]
  },
  {
   "cell_type": "code",
   "execution_count": null,
   "id": "cbd7207f",
   "metadata": {},
   "outputs": [],
   "source": [
    "#y_pred = logreg.predict(X_test)\n",
    "print('Accuracy of logistic regression classifier on test set: {:.2f}'.format(logreg.score(X_test, y_test)))"
   ]
  },
  {
   "cell_type": "code",
   "execution_count": null,
   "id": "1e9d2dde",
   "metadata": {},
   "outputs": [],
   "source": [
    "boxplot = df.boxplot(column=['eo'], by=['Autor'])"
   ]
  },
  {
   "cell_type": "markdown",
   "id": "7c98319c",
   "metadata": {},
   "source": [
    "test"
   ]
  },
  {
   "cell_type": "code",
   "execution_count": null,
   "id": "cedfea42",
   "metadata": {},
   "outputs": [],
   "source": [
    "boxplot = df.boxplot(column=aso, by=['Autor'])"
   ]
  },
  {
   "cell_type": "code",
   "execution_count": null,
   "id": "555a10e9",
   "metadata": {},
   "outputs": [],
   "source": [
    "boxplot = dtest.boxplot(column=vocales, by=['Autor'])"
   ]
  },
  {
   "cell_type": "code",
   "execution_count": null,
   "id": "67d44dc3",
   "metadata": {},
   "outputs": [],
   "source": [
    "todos = pd.concat([ddf, dtest])"
   ]
  },
  {
   "cell_type": "code",
   "execution_count": null,
   "id": "614fbbcf",
   "metadata": {},
   "outputs": [],
   "source": [
    "\n",
    "df.to_csv(f'/tmp/final.csv', mode='w', header=True, index=False)\n",
    "test.to_csv(f'/tmp/final_test.csv', mode='w', header=True, index=False)\n"
   ]
  },
  {
   "cell_type": "code",
   "execution_count": null,
   "id": "6af04dd4",
   "metadata": {},
   "outputs": [],
   "source": []
  },
  {
   "cell_type": "code",
   "execution_count": null,
   "id": "406cb9e7",
   "metadata": {},
   "outputs": [],
   "source": []
  }
 ],
 "metadata": {
  "kernelspec": {
   "display_name": "Python 3",
   "language": "python",
   "name": "python3"
  },
  "language_info": {
   "codemirror_mode": {
    "name": "ipython",
    "version": 3
   },
   "file_extension": ".py",
   "mimetype": "text/x-python",
   "name": "python",
   "nbconvert_exporter": "python",
   "pygments_lexer": "ipython3",
   "version": "3.9.2"
  }
 },
 "nbformat": 4,
 "nbformat_minor": 5
}
